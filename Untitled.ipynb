{
 "cells": [
  {
   "cell_type": "code",
   "execution_count": 1,
   "id": "ef6f1e20",
   "metadata": {},
   "outputs": [],
   "source": [
    "## import necessary modules\n",
    "\n",
    "import pandas as pd\n",
    "import numpy as np\n",
    "import matplotlib.pyplot as plt \n",
    "import seaborn as sns\n",
    "sns.set_style('darkgrid')"
   ]
  },
  {
   "cell_type": "code",
   "execution_count": 2,
   "id": "cff3d1f0",
   "metadata": {},
   "outputs": [
    {
     "data": {
      "text/html": [
       "<div>\n",
       "<style scoped>\n",
       "    .dataframe tbody tr th:only-of-type {\n",
       "        vertical-align: middle;\n",
       "    }\n",
       "\n",
       "    .dataframe tbody tr th {\n",
       "        vertical-align: top;\n",
       "    }\n",
       "\n",
       "    .dataframe thead th {\n",
       "        text-align: right;\n",
       "    }\n",
       "</style>\n",
       "<table border=\"1\" class=\"dataframe\">\n",
       "  <thead>\n",
       "    <tr style=\"text-align: right;\">\n",
       "      <th></th>\n",
       "      <th>STATE/UT</th>\n",
       "      <th>YEAR</th>\n",
       "      <th>Pupose</th>\n",
       "      <th>Total No. of cases reported</th>\n",
       "      <th>Male upto 10 years</th>\n",
       "      <th>Female upto 10 years</th>\n",
       "      <th>Male 10-15 years</th>\n",
       "      <th>Female 10-15 years</th>\n",
       "      <th>Male 15-18 years</th>\n",
       "      <th>Female 15-18 years</th>\n",
       "      <th>Male 18-30 years</th>\n",
       "      <th>Female 18-30 years</th>\n",
       "      <th>Male 30-50 years</th>\n",
       "      <th>Female 30-50 years</th>\n",
       "      <th>Male above 50 years</th>\n",
       "      <th>Female above 50 years</th>\n",
       "      <th>Total Male</th>\n",
       "      <th>Total Female</th>\n",
       "      <th>Grand Total</th>\n",
       "    </tr>\n",
       "  </thead>\n",
       "  <tbody>\n",
       "    <tr>\n",
       "      <th>0</th>\n",
       "      <td>Andhra Pradesh</td>\n",
       "      <td>2001</td>\n",
       "      <td>For Adoption</td>\n",
       "      <td>8</td>\n",
       "      <td>3</td>\n",
       "      <td>1</td>\n",
       "      <td>0</td>\n",
       "      <td>0</td>\n",
       "      <td>0</td>\n",
       "      <td>0</td>\n",
       "      <td>0</td>\n",
       "      <td>4</td>\n",
       "      <td>0</td>\n",
       "      <td>0</td>\n",
       "      <td>0</td>\n",
       "      <td>0</td>\n",
       "      <td>3</td>\n",
       "      <td>5</td>\n",
       "      <td>8</td>\n",
       "    </tr>\n",
       "    <tr>\n",
       "      <th>1</th>\n",
       "      <td>Andhra Pradesh</td>\n",
       "      <td>2001</td>\n",
       "      <td>For Begging</td>\n",
       "      <td>2</td>\n",
       "      <td>0</td>\n",
       "      <td>0</td>\n",
       "      <td>2</td>\n",
       "      <td>0</td>\n",
       "      <td>0</td>\n",
       "      <td>0</td>\n",
       "      <td>0</td>\n",
       "      <td>0</td>\n",
       "      <td>0</td>\n",
       "      <td>0</td>\n",
       "      <td>0</td>\n",
       "      <td>0</td>\n",
       "      <td>2</td>\n",
       "      <td>0</td>\n",
       "      <td>2</td>\n",
       "    </tr>\n",
       "    <tr>\n",
       "      <th>2</th>\n",
       "      <td>Andhra Pradesh</td>\n",
       "      <td>2001</td>\n",
       "      <td>For Camel racing</td>\n",
       "      <td>0</td>\n",
       "      <td>0</td>\n",
       "      <td>0</td>\n",
       "      <td>0</td>\n",
       "      <td>0</td>\n",
       "      <td>0</td>\n",
       "      <td>0</td>\n",
       "      <td>0</td>\n",
       "      <td>0</td>\n",
       "      <td>0</td>\n",
       "      <td>0</td>\n",
       "      <td>0</td>\n",
       "      <td>0</td>\n",
       "      <td>0</td>\n",
       "      <td>0</td>\n",
       "      <td>0</td>\n",
       "    </tr>\n",
       "    <tr>\n",
       "      <th>3</th>\n",
       "      <td>Andhra Pradesh</td>\n",
       "      <td>2001</td>\n",
       "      <td>For Illicit intercourse</td>\n",
       "      <td>78</td>\n",
       "      <td>0</td>\n",
       "      <td>2</td>\n",
       "      <td>0</td>\n",
       "      <td>25</td>\n",
       "      <td>0</td>\n",
       "      <td>24</td>\n",
       "      <td>0</td>\n",
       "      <td>25</td>\n",
       "      <td>0</td>\n",
       "      <td>2</td>\n",
       "      <td>0</td>\n",
       "      <td>0</td>\n",
       "      <td>0</td>\n",
       "      <td>78</td>\n",
       "      <td>78</td>\n",
       "    </tr>\n",
       "    <tr>\n",
       "      <th>4</th>\n",
       "      <td>Andhra Pradesh</td>\n",
       "      <td>2001</td>\n",
       "      <td>For marriage</td>\n",
       "      <td>339</td>\n",
       "      <td>0</td>\n",
       "      <td>0</td>\n",
       "      <td>0</td>\n",
       "      <td>73</td>\n",
       "      <td>1</td>\n",
       "      <td>164</td>\n",
       "      <td>6</td>\n",
       "      <td>91</td>\n",
       "      <td>0</td>\n",
       "      <td>4</td>\n",
       "      <td>0</td>\n",
       "      <td>0</td>\n",
       "      <td>7</td>\n",
       "      <td>332</td>\n",
       "      <td>339</td>\n",
       "    </tr>\n",
       "  </tbody>\n",
       "</table>\n",
       "</div>"
      ],
      "text/plain": [
       "         STATE/UT  YEAR                   Pupose  Total No. of cases reported  \\\n",
       "0  Andhra Pradesh  2001             For Adoption                            8   \n",
       "1  Andhra Pradesh  2001              For Begging                            2   \n",
       "2  Andhra Pradesh  2001         For Camel racing                            0   \n",
       "3  Andhra Pradesh  2001  For Illicit intercourse                           78   \n",
       "4  Andhra Pradesh  2001             For marriage                          339   \n",
       "\n",
       "   Male upto 10 years  Female upto 10 years  Male 10-15 years  \\\n",
       "0                   3                     1                 0   \n",
       "1                   0                     0                 2   \n",
       "2                   0                     0                 0   \n",
       "3                   0                     2                 0   \n",
       "4                   0                     0                 0   \n",
       "\n",
       "   Female 10-15 years  Male 15-18 years  Female 15-18 years  Male 18-30 years  \\\n",
       "0                   0                 0                   0                 0   \n",
       "1                   0                 0                   0                 0   \n",
       "2                   0                 0                   0                 0   \n",
       "3                  25                 0                  24                 0   \n",
       "4                  73                 1                 164                 6   \n",
       "\n",
       "   Female 18-30 years  Male 30-50 years  Female 30-50 years  \\\n",
       "0                   4                 0                   0   \n",
       "1                   0                 0                   0   \n",
       "2                   0                 0                   0   \n",
       "3                  25                 0                   2   \n",
       "4                  91                 0                   4   \n",
       "\n",
       "   Male above 50 years  Female above 50 years  Total Male  Total Female  \\\n",
       "0                    0                      0           3             5   \n",
       "1                    0                      0           2             0   \n",
       "2                    0                      0           0             0   \n",
       "3                    0                      0           0            78   \n",
       "4                    0                      0           7           332   \n",
       "\n",
       "   Grand Total  \n",
       "0            8  \n",
       "1            2  \n",
       "2            0  \n",
       "3           78  \n",
       "4          339  "
      ]
     },
     "execution_count": 2,
     "metadata": {},
     "output_type": "execute_result"
    }
   ],
   "source": [
    "crimes=pd.read_csv(\"crimes.csv\")\n",
    "crimes.head()"
   ]
  },
  {
   "cell_type": "code",
   "execution_count": 3,
   "id": "f0439487",
   "metadata": {},
   "outputs": [
    {
     "data": {
      "text/plain": [
       "(5866, 19)"
      ]
     },
     "execution_count": 3,
     "metadata": {},
     "output_type": "execute_result"
    }
   ],
   "source": [
    "crimes.shape"
   ]
  },
  {
   "cell_type": "code",
   "execution_count": 4,
   "id": "e680f7c9",
   "metadata": {},
   "outputs": [
    {
     "data": {
      "text/plain": [
       "array(['Andhra Pradesh', 'Arunachal Pradesh', 'Assam', 'Bihar',\n",
       "       'Chhattisgarh', 'Goa', 'Gujarat', 'Haryana', 'Himachal Pradesh',\n",
       "       'Jammu & Kashmir', 'Jharkhand', 'Karnataka', 'Kerala',\n",
       "       'Madhya Pradesh', 'Maharashtra', 'Manipur', 'Meghalaya', 'Mizoram',\n",
       "       'Nagaland', 'Odisha', 'Punjab', 'Rajasthan', 'Sikkim',\n",
       "       'Tamil Nadu', 'Tripura', 'Uttar Pradesh', 'Uttarakhand',\n",
       "       'West Bengal', 'A&N Islands', 'Chandigarh', 'D&N Haveli',\n",
       "       'Daman & Diu', 'Delhi UT', 'Lakshadweep', 'Puducherry'],\n",
       "      dtype=object)"
      ]
     },
     "execution_count": 4,
     "metadata": {},
     "output_type": "execute_result"
    }
   ],
   "source": [
    "crimes[\"STATE/UT\"].unique()"
   ]
  },
  {
   "cell_type": "code",
   "execution_count": 6,
   "id": "663f2fa0",
   "metadata": {},
   "outputs": [
    {
     "data": {
      "text/plain": [
       "Andhra Pradesh       168\n",
       "Uttar Pradesh        168\n",
       "Odisha               168\n",
       "Punjab               168\n",
       "Rajasthan            168\n",
       "Sikkim               168\n",
       "Tamil Nadu           168\n",
       "Tripura              168\n",
       "Uttarakhand          168\n",
       "Arunachal Pradesh    168\n",
       "West Bengal          168\n",
       "A&N Islands          168\n",
       "Chandigarh           168\n",
       "D&N Haveli           168\n",
       "Delhi UT             168\n",
       "Lakshadweep          168\n",
       "Nagaland             168\n",
       "Mizoram              168\n",
       "Meghalaya            168\n",
       "Manipur              168\n",
       "Assam                168\n",
       "Bihar                168\n",
       "Chhattisgarh         168\n",
       "Goa                  168\n",
       "Gujarat              168\n",
       "Haryana              168\n",
       "Himachal Pradesh     168\n",
       "Jammu & Kashmir      168\n",
       "Jharkhand            168\n",
       "Karnataka            168\n",
       "Kerala               168\n",
       "Madhya Pradesh       168\n",
       "Maharashtra          168\n",
       "Puducherry           168\n",
       "Daman & Diu          154\n",
       "Name: STATE/UT, dtype: int64"
      ]
     },
     "execution_count": 6,
     "metadata": {},
     "output_type": "execute_result"
    }
   ],
   "source": [
    "crimes[\"STATE/UT\"].value_counts()"
   ]
  },
  {
   "cell_type": "code",
   "execution_count": 8,
   "id": "bdd58e46",
   "metadata": {},
   "outputs": [
    {
     "data": {
      "text/plain": [
       "array([2001, 2002, 2003, 2004, 2005, 2006, 2007, 2008, 2009, 2010, 2011,\n",
       "       2012])"
      ]
     },
     "execution_count": 8,
     "metadata": {},
     "output_type": "execute_result"
    }
   ],
   "source": [
    "crimes[\"YEAR\"].unique()"
   ]
  },
  {
   "cell_type": "code",
   "execution_count": 9,
   "id": "f7c3bf66",
   "metadata": {},
   "outputs": [
    {
     "data": {
      "text/plain": [
       "2002    490\n",
       "2003    490\n",
       "2004    490\n",
       "2005    490\n",
       "2006    490\n",
       "2007    490\n",
       "2008    490\n",
       "2009    490\n",
       "2010    490\n",
       "2011    490\n",
       "2012    490\n",
       "2001    476\n",
       "Name: YEAR, dtype: int64"
      ]
     },
     "execution_count": 9,
     "metadata": {},
     "output_type": "execute_result"
    }
   ],
   "source": [
    "crimes[\"YEAR\"].value_counts()"
   ]
  },
  {
   "cell_type": "code",
   "execution_count": 11,
   "id": "1358acc6",
   "metadata": {},
   "outputs": [
    {
     "data": {
      "text/plain": [
       "For Adoption               420\n",
       "For Camel racing           419\n",
       "For Illicit intercourse    419\n",
       "For marriage               419\n",
       "For Prostitution           419\n",
       "For Ransom                 419\n",
       "For Revenge                419\n",
       "For Sale                   419\n",
       "For Selling body parts     419\n",
       "For Slavery                419\n",
       "Others                     419\n",
       "Total                      419\n",
       "For Begging                418\n",
       "For unlawaful activity     418\n",
       "For unlawful activity        1\n",
       "Name: Pupose, dtype: int64"
      ]
     },
     "execution_count": 11,
     "metadata": {},
     "output_type": "execute_result"
    }
   ],
   "source": [
    "crimes[\"Pupose\"].value_counts()"
   ]
  },
  {
   "cell_type": "code",
   "execution_count": 16,
   "id": "7076db96",
   "metadata": {},
   "outputs": [],
   "source": [
    "Uttar_Pradesh_crime=crimes[crimes[\"STATE/UT\"]==\"Uttar Pradesh\"]"
   ]
  },
  {
   "cell_type": "code",
   "execution_count": 17,
   "id": "c21a22a5",
   "metadata": {},
   "outputs": [
    {
     "data": {
      "text/html": [
       "<div>\n",
       "<style scoped>\n",
       "    .dataframe tbody tr th:only-of-type {\n",
       "        vertical-align: middle;\n",
       "    }\n",
       "\n",
       "    .dataframe tbody tr th {\n",
       "        vertical-align: top;\n",
       "    }\n",
       "\n",
       "    .dataframe thead th {\n",
       "        text-align: right;\n",
       "    }\n",
       "</style>\n",
       "<table border=\"1\" class=\"dataframe\">\n",
       "  <thead>\n",
       "    <tr style=\"text-align: right;\">\n",
       "      <th></th>\n",
       "      <th>STATE/UT</th>\n",
       "      <th>YEAR</th>\n",
       "      <th>Pupose</th>\n",
       "      <th>Total No. of cases reported</th>\n",
       "      <th>Male upto 10 years</th>\n",
       "      <th>Female upto 10 years</th>\n",
       "      <th>Male 10-15 years</th>\n",
       "      <th>Female 10-15 years</th>\n",
       "      <th>Male 15-18 years</th>\n",
       "      <th>Female 15-18 years</th>\n",
       "      <th>Male 18-30 years</th>\n",
       "      <th>Female 18-30 years</th>\n",
       "      <th>Male 30-50 years</th>\n",
       "      <th>Female 30-50 years</th>\n",
       "      <th>Male above 50 years</th>\n",
       "      <th>Female above 50 years</th>\n",
       "      <th>Total Male</th>\n",
       "      <th>Total Female</th>\n",
       "      <th>Grand Total</th>\n",
       "    </tr>\n",
       "  </thead>\n",
       "  <tbody>\n",
       "    <tr>\n",
       "      <th>4200</th>\n",
       "      <td>Uttar Pradesh</td>\n",
       "      <td>2001</td>\n",
       "      <td>For Adoption</td>\n",
       "      <td>6</td>\n",
       "      <td>0</td>\n",
       "      <td>0</td>\n",
       "      <td>0</td>\n",
       "      <td>0</td>\n",
       "      <td>2</td>\n",
       "      <td>1</td>\n",
       "      <td>3</td>\n",
       "      <td>0</td>\n",
       "      <td>0</td>\n",
       "      <td>0</td>\n",
       "      <td>0</td>\n",
       "      <td>0</td>\n",
       "      <td>5</td>\n",
       "      <td>1</td>\n",
       "      <td>6</td>\n",
       "    </tr>\n",
       "    <tr>\n",
       "      <th>4201</th>\n",
       "      <td>Uttar Pradesh</td>\n",
       "      <td>2001</td>\n",
       "      <td>For Begging</td>\n",
       "      <td>5</td>\n",
       "      <td>3</td>\n",
       "      <td>0</td>\n",
       "      <td>2</td>\n",
       "      <td>0</td>\n",
       "      <td>0</td>\n",
       "      <td>0</td>\n",
       "      <td>0</td>\n",
       "      <td>0</td>\n",
       "      <td>0</td>\n",
       "      <td>0</td>\n",
       "      <td>0</td>\n",
       "      <td>0</td>\n",
       "      <td>5</td>\n",
       "      <td>0</td>\n",
       "      <td>5</td>\n",
       "    </tr>\n",
       "  </tbody>\n",
       "</table>\n",
       "</div>"
      ],
      "text/plain": [
       "           STATE/UT  YEAR        Pupose  Total No. of cases reported  \\\n",
       "4200  Uttar Pradesh  2001  For Adoption                            6   \n",
       "4201  Uttar Pradesh  2001   For Begging                            5   \n",
       "\n",
       "      Male upto 10 years  Female upto 10 years  Male 10-15 years  \\\n",
       "4200                   0                     0                 0   \n",
       "4201                   3                     0                 2   \n",
       "\n",
       "      Female 10-15 years  Male 15-18 years  Female 15-18 years  \\\n",
       "4200                   0                 2                   1   \n",
       "4201                   0                 0                   0   \n",
       "\n",
       "      Male 18-30 years  Female 18-30 years  Male 30-50 years  \\\n",
       "4200                 3                   0                 0   \n",
       "4201                 0                   0                 0   \n",
       "\n",
       "      Female 30-50 years  Male above 50 years  Female above 50 years  \\\n",
       "4200                   0                    0                      0   \n",
       "4201                   0                    0                      0   \n",
       "\n",
       "      Total Male  Total Female  Grand Total  \n",
       "4200           5             1            6  \n",
       "4201           5             0            5  "
      ]
     },
     "execution_count": 17,
     "metadata": {},
     "output_type": "execute_result"
    }
   ],
   "source": [
    "Uttar_Pradesh_crime.head(2)"
   ]
  },
  {
   "cell_type": "code",
   "execution_count": 18,
   "id": "f0dc221b",
   "metadata": {},
   "outputs": [
    {
     "data": {
      "text/plain": [
       "For Adoption               12\n",
       "For Begging                12\n",
       "For Camel racing           12\n",
       "For Illicit intercourse    12\n",
       "For marriage               12\n",
       "For Prostitution           12\n",
       "For Ransom                 12\n",
       "For Revenge                12\n",
       "For Sale                   12\n",
       "For Selling body parts     12\n",
       "For Slavery                12\n",
       "For unlawaful activity     12\n",
       "Others                     12\n",
       "Total                      12\n",
       "Name: Pupose, dtype: int64"
      ]
     },
     "execution_count": 18,
     "metadata": {},
     "output_type": "execute_result"
    }
   ],
   "source": [
    "Uttar_Pradesh_crime[\"Pupose\"].value_counts()"
   ]
  },
  {
   "cell_type": "code",
   "execution_count": 19,
   "id": "b2b524ab",
   "metadata": {},
   "outputs": [
    {
     "data": {
      "text/plain": [
       "2001    14\n",
       "2002    14\n",
       "2003    14\n",
       "2004    14\n",
       "2005    14\n",
       "2006    14\n",
       "2007    14\n",
       "2008    14\n",
       "2009    14\n",
       "2010    14\n",
       "2011    14\n",
       "2012    14\n",
       "Name: YEAR, dtype: int64"
      ]
     },
     "execution_count": 19,
     "metadata": {},
     "output_type": "execute_result"
    }
   ],
   "source": [
    "Uttar_Pradesh_crime[\"YEAR\"].value_counts()"
   ]
  },
  {
   "cell_type": "code",
   "execution_count": 20,
   "id": "342c24db",
   "metadata": {},
   "outputs": [
    {
     "data": {
      "text/plain": [
       "0       56\n",
       "1        7\n",
       "4        5\n",
       "35       2\n",
       "7        2\n",
       "        ..\n",
       "28       1\n",
       "1347     1\n",
       "892      1\n",
       "2208     1\n",
       "8878     1\n",
       "Name: Total No. of cases reported, Length: 96, dtype: int64"
      ]
     },
     "execution_count": 20,
     "metadata": {},
     "output_type": "execute_result"
    }
   ],
   "source": [
    "Uttar_Pradesh_crime[\"Total No. of cases reported\"].value_counts()"
   ]
  },
  {
   "cell_type": "code",
   "execution_count": 21,
   "id": "f5b1518f",
   "metadata": {},
   "outputs": [
    {
     "data": {
      "text/plain": [
       "<AxesSubplot: xlabel='Total No. of cases reported', ylabel='Count'>"
      ]
     },
     "execution_count": 21,
     "metadata": {},
     "output_type": "execute_result"
    },
    {
     "data": {
      "image/png": "[encoded data removed]",
      "text/plain": [
       "<Figure size 640x480 with 1 Axes>"
      ]
     },
     "metadata": {},
     "output_type": "display_data"
    }
   ],
   "source": [
    "#sns.histplot(x=\"Total No. of cases reported\",data=Uttar_Pradesh_crime)"
   ]
  },
  {
   "cell_type": "code",
   "execution_count": 22,
   "id": "203ed245",
   "metadata": {},
   "outputs": [
    {
     "data": {
      "text/plain": [
       "<AxesSubplot: xlabel='Total No. of cases reported', ylabel='count'>"
      ]
     },
     "execution_count": 22,
     "metadata": {},
     "output_type": "execute_result"
    },
    {
     "data": {
      "image/png": "[encoded data removed]",
      "text/plain": [
       "<Figure size 640x480 with 1 Axes>"
      ]
     },
     "metadata": {},
     "output_type": "display_data"
    }
   ],
   "source": [
    "sns.countplot(x=\"Total No. of cases reported\",data=Uttar_Pradesh_crime)"
   ]
  },
  {
   "cell_type": "code",
   "execution_count": null,
   "id": "5e8b06fd",
   "metadata": {},
   "outputs": [],
   "source": []
  }
 ],
 "metadata": {
  "kernelspec": {
   "display_name": "Python 3 (ipykernel)",
   "language": "python",
   "name": "python3"
  },
  "language_info": {
   "codemirror_mode": {
    "name": "ipython",
    "version": 3
   },
   "file_extension": ".py",
   "mimetype": "text/x-python",
   "name": "python",
   "nbconvert_exporter": "python",
   "pygments_lexer": "ipython3",
   "version": "3.10.8"
  }
 },
 "nbformat": 4,
 "nbformat_minor": 5
}
